{
  "nbformat": 4,
  "nbformat_minor": 0,
  "metadata": {
    "colab": {
      "name": "projeto_criaComp.ipynb",
      "provenance": [],
      "collapsed_sections": [],
      "authorship_tag": "ABX9TyMgszSZ7hxMkhSBNmXdGtVR",
      "include_colab_link": true
    },
    "kernelspec": {
      "name": "python3",
      "display_name": "Python 3"
    },
    "language_info": {
      "name": "python"
    }
  },
  "cells": [
    {
      "cell_type": "markdown",
      "metadata": {
        "id": "view-in-github",
        "colab_type": "text"
      },
      "source": [
        "<a href=\"https://colab.research.google.com/github/JosenildoVicente/projetoCriatividadeComputacional/blob/main/projeto_criaComp.ipynb\" target=\"_parent\"><img src=\"https://colab.research.google.com/assets/colab-badge.svg\" alt=\"Open In Colab\"/></a>"
      ]
    },
    {
      "cell_type": "markdown",
      "metadata": {
        "id": "KtPLulJ7JUaJ"
      },
      "source": [
        "#Enter site key"
      ]
    },
    {
      "cell_type": "code",
      "metadata": {
        "id": "-sFin7OAJZfK"
      },
      "source": [
        "#@title\n",
        "key = input(\"Enter key: \")"
      ],
      "execution_count": null,
      "outputs": []
    },
    {
      "cell_type": "markdown",
      "metadata": {
        "id": "eRdmUpeUJfRY"
      },
      "source": [
        "#Run the program:\n",
        "  Coloque no site anvil para ativar a função chamada 'callColab' onde a entrada deve ser o arquivo de imagem e a saída será outro arquivo de imagem de mesma extensão!"
      ]
    },
    {
      "cell_type": "markdown",
      "metadata": {
        "id": "zdXWMRetqEfr"
      },
      "source": [
        "##Install Components"
      ]
    },
    {
      "cell_type": "code",
      "metadata": {
        "id": "qjIDDMHvYeSN",
        "cellView": "form",
        "collapsed": true
      },
      "source": [
        "#@title\n",
        "!pip install anvil-uplink"
      ],
      "execution_count": null,
      "outputs": []
    },
    {
      "cell_type": "code",
      "metadata": {
        "id": "t9NKzhI2csGl",
        "cellView": "form"
      },
      "source": [
        "#@title\n",
        "import anvil\n",
        "import anvil.server\n",
        "import anvil.media\n",
        "\n",
        "# from PIL import Image\n",
        "\n",
        "from google.colab import files"
      ],
      "execution_count": 4,
      "outputs": []
    },
    {
      "cell_type": "markdown",
      "metadata": {
        "id": "4YZzVfUVuBlc"
      },
      "source": [
        "###Style transfer"
      ]
    },
    {
      "cell_type": "code",
      "metadata": {
        "id": "NyftRTSMuwue",
        "cellView": "form"
      },
      "source": [
        "#@title\n",
        "import os\n",
        "import tensorflow as tf\n",
        "# Load compressed models from tensorflow_hub\n",
        "import tensorflow_hub as hub\n",
        "os.environ['TFHUB_MODEL_LOAD_FORMAT'] = 'COMPRESSED'"
      ],
      "execution_count": 5,
      "outputs": []
    },
    {
      "cell_type": "code",
      "metadata": {
        "id": "sc1OLbOWhPCO",
        "cellView": "form"
      },
      "source": [
        "#@title\n",
        "import IPython.display as display\n",
        "\n",
        "import matplotlib.pyplot as plt\n",
        "import matplotlib as mpl\n",
        "mpl.rcParams['figure.figsize'] = (12, 12)\n",
        "mpl.rcParams['axes.grid'] = False\n",
        "\n",
        "import numpy as np\n",
        "import PIL.Image\n",
        "import time\n",
        "import functools"
      ],
      "execution_count": 6,
      "outputs": []
    },
    {
      "cell_type": "markdown",
      "metadata": {
        "id": "9TDzvbHNrEED"
      },
      "source": [
        "##Conect to site uplink"
      ]
    },
    {
      "cell_type": "code",
      "metadata": {
        "id": "qY0_8e3HcuFr",
        "colab": {
          "base_uri": "https://localhost:8080/"
        },
        "cellView": "form",
        "collapsed": true,
        "outputId": "9f014833-f325-45f4-e08c-9eb904a3d8cc"
      },
      "source": [
        "#@title\n",
        "anvil.server.connect(key)"
      ],
      "execution_count": 7,
      "outputs": [
        {
          "output_type": "stream",
          "text": [
            "Connecting to wss://anvil.works/uplink\n",
            "Anvil websocket open\n",
            "Connected to \"Default environment (dev)\" as SERVER\n"
          ],
          "name": "stdout"
        }
      ]
    },
    {
      "cell_type": "markdown",
      "metadata": {
        "id": "Wb7eA-SurGrz"
      },
      "source": [
        "##Functions to image process"
      ]
    },
    {
      "cell_type": "markdown",
      "metadata": {
        "id": "b6aAAa_Lu0Zu"
      },
      "source": [
        "###style transfer functions"
      ]
    },
    {
      "cell_type": "code",
      "metadata": {
        "id": "GM6VEGrGLh62",
        "cellView": "form"
      },
      "source": [
        "#@title\n",
        "def tensor_to_image(tensor):\n",
        "  tensor = tensor*255\n",
        "  tensor = np.array(tensor, dtype=np.uint8)\n",
        "  if np.ndim(tensor)>3:\n",
        "    assert tensor.shape[0] == 1\n",
        "    tensor = tensor[0]\n",
        "  return PIL.Image.fromarray(tensor)"
      ],
      "execution_count": 8,
      "outputs": []
    },
    {
      "cell_type": "markdown",
      "metadata": {
        "id": "oeXebYusyHwC"
      },
      "source": [
        "Download images and choose a style image and a content image:"
      ]
    },
    {
      "cell_type": "code",
      "metadata": {
        "id": "wqc0OJHwyFAk",
        "cellView": "form"
      },
      "source": [
        "#@title\n",
        "def file_transform_tf(content_image,content_name, style_image, style_name):\n",
        "  content_path = tf.keras.utils.get_file(content_name, content_image)\n",
        "  style_path = tf.keras.utils.get_file(style_name,style_image)\n",
        "  return [content_path,style_path]"
      ],
      "execution_count": 9,
      "outputs": []
    },
    {
      "cell_type": "markdown",
      "metadata": {
        "id": "klh6ObK2t_vH"
      },
      "source": [
        "Define a function to load an image and limit its maximum dimension to 512 pixels."
      ]
    },
    {
      "cell_type": "code",
      "metadata": {
        "id": "3TLljcwv5qZs",
        "cellView": "form"
      },
      "source": [
        "#@title\n",
        "def load_img(path_to_img):\n",
        "  max_dim = 512\n",
        "  img = tf.io.read_file(path_to_img)\n",
        "  img = tf.image.decode_image(img, channels=3)\n",
        "  img = tf.image.convert_image_dtype(img, tf.float32)\n",
        "\n",
        "  shape = tf.cast(tf.shape(img)[:-1], tf.float32)\n",
        "  long_dim = max(shape)\n",
        "  scale = max_dim / long_dim\n",
        "\n",
        "  new_shape = tf.cast(shape * scale, tf.int32)\n",
        "\n",
        "  img = tf.image.resize(img, new_shape)\n",
        "  img = img[tf.newaxis, :]\n",
        "  return img"
      ],
      "execution_count": 10,
      "outputs": []
    },
    {
      "cell_type": "markdown",
      "metadata": {
        "id": "2yAlRzJZrWM3"
      },
      "source": [
        "Create a simple function to display an image:"
      ]
    },
    {
      "cell_type": "code",
      "metadata": {
        "id": "cBX-eNT8PAK_",
        "cellView": "form"
      },
      "source": [
        "#@title\n",
        "def imshow(image, title=None):\n",
        "  if len(image.shape) > 3:\n",
        "    image = tf.squeeze(image, axis=0)\n",
        "\n",
        "  plt.imshow(image)\n",
        "  if title:\n",
        "    plt.title(title)"
      ],
      "execution_count": 11,
      "outputs": []
    },
    {
      "cell_type": "code",
      "metadata": {
        "id": "_UWQmeEaiKkP",
        "cellView": "form"
      },
      "source": [
        "#@title\n",
        "def plot_images(content_path,style_path):\n",
        "  content_image = load_img(content_path)\n",
        "  style_image = load_img(style_path)\n",
        "\n",
        "  plt.subplot(1, 2, 1)\n",
        "  imshow(content_image, 'Content Image')\n",
        "\n",
        "  plt.subplot(1, 2, 2)\n",
        "  imshow(style_image, 'Style Image')\n",
        "  plt.show()\n",
        "  return [content_image,style_image]"
      ],
      "execution_count": 12,
      "outputs": []
    },
    {
      "cell_type": "markdown",
      "metadata": {
        "id": "YMzChXSlKTA2"
      },
      "source": [
        "#### Fast Style Transfer using TF-Hub\n",
        "\n",
        "This tutorial demonstrates the original style-transfer algorithm, which optimizes the image content to a particular style. Before getting into the details, let's see how the [TensorFlow Hub model](https://tfhub.dev/google/magenta/arbitrary-image-stylization-v1-256/2) does this:"
      ]
    },
    {
      "cell_type": "code",
      "metadata": {
        "id": "iYSLexgRKSh-",
        "cellView": "form"
      },
      "source": [
        "#@title\n",
        "def stylize_image(content_image,style_image):\n",
        "  hub_model = hub.load('https://tfhub.dev/google/magenta/arbitrary-image-stylization-v1-256/2')\n",
        "  print(\"tipo hub: \",type(hub_model))\n",
        "  stylized_image = hub_model(tf.constant(content_image), tf.constant(style_image))[0]\n",
        "  print(\"tipo stylized_image:\",type(stylize_image))\n",
        "  img_out = tensor_to_image(stylized_image)\n",
        "  print(\"img:\",img_out)\n",
        "  return img_out"
      ],
      "execution_count": 13,
      "outputs": []
    },
    {
      "cell_type": "markdown",
      "metadata": {
        "id": "dA9JBBaPwqV8"
      },
      "source": [
        "###Gerenal function"
      ]
    },
    {
      "cell_type": "code",
      "metadata": {
        "cellView": "form",
        "id": "grKjFrb4bOoQ"
      },
      "source": [
        "#@title\n",
        "def change_image(file):\n",
        "  folder_name = 'images/'\n",
        "  try:\n",
        "    os.mkdir('./'+folder_name)\n",
        "  except OSError:\n",
        "    print(\"pasta já existe!\")\n",
        "\n",
        "  image_uploaded_initial_name = file.name\n",
        "  image_uploaded_name = folder_name + image_uploaded_initial_name\n",
        "  image_uploaded = anvil.media.write_to_file(file, image_uploaded_name)\n",
        "  image_style_uploaded = 'https://i.pinimg.com/474x/8c/34/c2/8c34c2e4b43f10f3edb6343c66ead399--linolium-printmaking.jpg'\n",
        "  image_style_uploaded_name = 'xilo.jpg'\n",
        "  \n",
        "  content_path = image_uploaded_name\n",
        "  style_path = tf.keras.utils.get_file(image_style_uploaded_name,image_style_uploaded)\n",
        "  \n",
        "  content_image,style_image = plot_images(content_path,style_path)\n",
        "\n",
        "  image_stylized = stylize_image(content_image,style_image)\n",
        "\n",
        "  result_image_name = folder_name + 'new_' + image_uploaded_initial_name\n",
        "  image_stylized.save(result_image_name)\n",
        "\n",
        "  new_img_show = load_img(result_image_name)\n",
        "  imshow(new_img_show, 'New Image')\n",
        "  plt.show()\n",
        "\n",
        "  result = anvil.media.from_file(result_image_name)\n",
        "  \n",
        "  return result"
      ],
      "execution_count": 14,
      "outputs": []
    },
    {
      "cell_type": "code",
      "metadata": {
        "id": "-KDLkRjfgPIK",
        "cellView": "form"
      },
      "source": [
        "#@title\n",
        "@anvil.server.callable\n",
        "def callColab(file):\n",
        "  new_image = change_image(file)\n",
        "  return new_image\n"
      ],
      "execution_count": 15,
      "outputs": []
    },
    {
      "cell_type": "markdown",
      "metadata": {
        "id": "rkMMvq9srT7C"
      },
      "source": [
        "##Up connection to the site"
      ]
    },
    {
      "cell_type": "code",
      "metadata": {
        "id": "BJ_f5pWdc55T",
        "collapsed": true,
        "cellView": "form"
      },
      "source": [
        "#@title\n",
        "anvil.server.wait_forever()"
      ],
      "execution_count": null,
      "outputs": []
    }
  ]
}